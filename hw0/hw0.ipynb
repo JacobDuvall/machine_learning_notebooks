{
 "cells": [
  {
   "cell_type": "markdown",
   "metadata": {},
   "source": [
    "# Homework 0\n",
    "\n",
    "### Objectives\n",
    "* Get set up on Jupyter\n",
    "* Basic python operations\n",
    "* Do not save work within the ml_practices folder\n",
    "  + Create a folder for your homework assignments within your home directory and copy hw temples there\n",
    "\n",
    "### General References\n",
    "* [Python Built-in Functions](https://docs.python.org/3/library/functions.html)\n",
    "* [Python Data Structures](https://docs.python.org/3/tutorial/datastructures.html)\n",
    "* Python Lists\n",
    "  + [Reference 1 Lists](https://effbot.org/zone/python-list.htm)\n",
    "  + [Reference 2 Lists](https://python-reference.readthedocs.io/en/latest/docs/list/)\n",
    "* Enumerated Lists\n",
    "  + [Example 1 using enumerate()](https://www.geeksforgeeks.org/enumerate-in-python/)\n",
    "  + [Example 2 using enumerate()](https://www.afternerd.com/blog/python-enumerate/)\n",
    "* [Python Cheat Sheets](https://ehmatthes.github.io/pcc/cheatsheets/README.html)\n"
   ]
  },
  {
   "cell_type": "markdown",
   "metadata": {},
   "source": [
    "## Lists\n",
    "Create small lists using a standard for loop and python's list comprehension syntax"
   ]
  },
  {
   "cell_type": "code",
   "execution_count": 3,
   "metadata": {},
   "outputs": [
    {
     "name": "stdout",
     "output_type": "stream",
     "text": [
      "value of x :  [0, 2, 4, 6, 8, 10, 12, 14, 16, 18, 20, 22, 24, 26, 28]\n",
      "length of x :  15\n",
      "value of y :  [0, 2, 4, 6, 8, 10, 12, 14, 16, 18, 20, 22, 24, 26, 28]\n",
      "length of y :  15\n",
      "x and y contain same values\n"
     ]
    }
   ],
   "source": [
    "\"\"\" TODO:\n",
    "Create an empty list, x and populate it with the first \n",
    "15 even numbers, starting at 0, using a standard for \n",
    "loop and the append() function\n",
    "\"\"\"\n",
    "\n",
    "x = []\n",
    "\n",
    "for i in range(15):\n",
    "    x.append(i*2)\n",
    "\n",
    "\n",
    "\"\"\" TODO:\n",
    "Create and populate another list, y with the same even \n",
    "values instead using list comprehension\n",
    "\"\"\"\n",
    "\n",
    "y = [i*2 for i in range(15)]\n",
    "\n",
    "\n",
    "\"\"\" TODO:\n",
    "Print the two lists, their lengths and verify they have \n",
    "the same values\n",
    "\"\"\"\n",
    "\n",
    "print(\"value of x : \", x)\n",
    "print(\"length of x : \", len(x))\n",
    "print(\"value of y : \", y)\n",
    "print(\"length of y : \", len(y))\n",
    "\n",
    "if x == y:\n",
    "    print(\"x and y contain same values\")"
   ]
  },
  {
   "cell_type": "markdown",
   "metadata": {},
   "source": [
    "### Enumerated Lists"
   ]
  },
  {
   "cell_type": "code",
   "execution_count": 3,
   "metadata": {},
   "outputs": [
    {
     "name": "stdout",
     "output_type": "stream",
     "text": [
      "x[0]: 0\n",
      "x[1]: 2\n",
      "x[2]: 4\n",
      "x[3]: 6\n",
      "x[4]: 8\n",
      "x[5]: 10\n",
      "x[6]: 12\n",
      "x[7]: 14\n",
      "x[8]: 16\n",
      "x[9]: 18\n",
      "x[10]: 20\n",
      "x[11]: 22\n",
      "x[12]: 24\n",
      "x[13]: 26\n",
      "x[14]: 28\n"
     ]
    }
   ],
   "source": [
    "\"\"\" TODO:\n",
    "Use the enumerate() function to print each element of \n",
    "the list x, alongside its index. For example, output \n",
    "something of a similar form:\n",
    "    x[0]:  0\n",
    "    x[1]:  2\n",
    "    ...\n",
    "You may also refer to the example links referenced above\n",
    "for more details on enumerate().\n",
    "\"\"\"\n",
    "\n",
    "for value, index in enumerate(x, 0):\n",
    "    print(\"x[\", value, \"]: \", index, sep = \"\")"
   ]
  },
  {
   "cell_type": "markdown",
   "metadata": {},
   "source": [
    "### Copying lists\n",
    "In python, the variable used for a list, is actually a reference that points to where the list resides in memory. When using normal assignment sytnax to copy the contents of a list to create another list, both lists will reference the same memory location. Thus, a change to one variable will change both. Copies made using this syntax are refered to as \"shallow\" copies.\n",
    "For example,  \n",
    "```python\n",
    "  L1 = [1 ,3 ,4]  \n",
    "  L2 = L1 # shallow copy  \n",
    "  L2[1] = 55  \n",
    "  print(L1) # the change will be visible in L1 and L2  \n",
    "```\n",
    "To create an independent copy of a list, i.e. a \"deep\" copy, use slicing or the `list()` function. This will designate independent separate memory space for the copied list.  \n",
    "```python\n",
    "  L2 = L1[:]  \n",
    "  L3 = list(L1)  \n",
    "```\n",
    "\n",
    "You may refer to the references on lists provided above."
   ]
  },
  {
   "cell_type": "code",
   "execution_count": 4,
   "metadata": {},
   "outputs": [],
   "source": [
    "\"\"\" TODO:\n",
    "Create a shallow copy of x, named x_shallow\n",
    "Changing x_shallow will change the original x list\n",
    "\"\"\" \n",
    "\n",
    "x_shallow = x\n",
    "\n",
    "\"\"\" TODO:\n",
    "Create a deep copy of x, named x_deep\n",
    "Changing x_deep will NOT change the original x list\n",
    "\"\"\" \n",
    "\n",
    "x_deep = list(x)"
   ]
  },
  {
   "cell_type": "code",
   "execution_count": 5,
   "metadata": {},
   "outputs": [
    {
     "data": {
      "text/plain": [
       "[0, 2, 4, 6, 8, 10, 12, 14, 16, 18, 20, 22, 24, 26, 28]"
      ]
     },
     "execution_count": 5,
     "metadata": {},
     "output_type": "execute_result"
    }
   ],
   "source": [
    "# Simply run this cell\n",
    "x"
   ]
  },
  {
   "cell_type": "code",
   "execution_count": 6,
   "metadata": {},
   "outputs": [
    {
     "data": {
      "text/plain": [
       "[2002, 2, 4, 6, 8, 10, 12, 14, 16, 18, 20, 22, 24, 26, 28]"
      ]
     },
     "execution_count": 6,
     "metadata": {},
     "output_type": "execute_result"
    }
   ],
   "source": [
    "# Simply run this cell\n",
    "x_deep[0] = 2002\n",
    "x_deep"
   ]
  },
  {
   "cell_type": "code",
   "execution_count": 7,
   "metadata": {},
   "outputs": [
    {
     "data": {
      "text/plain": [
       "[0, 2, 4, 6, 8, 10, 12, 14, 16, 18, 20, 22, 24, 26, 28]"
      ]
     },
     "execution_count": 7,
     "metadata": {},
     "output_type": "execute_result"
    }
   ],
   "source": [
    "# Simply run this cell\n",
    "# x[0] will still be 0\n",
    "x"
   ]
  },
  {
   "cell_type": "code",
   "execution_count": 8,
   "metadata": {},
   "outputs": [
    {
     "data": {
      "text/plain": [
       "[4004, 2, 4, 6, 8, 10, 12, 14, 16, 18, 20, 22, 24, 26, 28]"
      ]
     },
     "execution_count": 8,
     "metadata": {},
     "output_type": "execute_result"
    }
   ],
   "source": [
    "# Simply run this cell\n",
    "x_shallow[0] = 4004\n",
    "x_shallow"
   ]
  },
  {
   "cell_type": "code",
   "execution_count": 9,
   "metadata": {},
   "outputs": [
    {
     "data": {
      "text/plain": [
       "[4004, 2, 4, 6, 8, 10, 12, 14, 16, 18, 20, 22, 24, 26, 28]"
      ]
     },
     "execution_count": 9,
     "metadata": {},
     "output_type": "execute_result"
    }
   ],
   "source": [
    "# Simply run this cell\n",
    "# x[0] will be 4004\n",
    "x"
   ]
  },
  {
   "cell_type": "markdown",
   "metadata": {},
   "source": [
    "## Dictionaries\n",
    "Create a simple dictionary, obtain the lists of key-value pairs, keys, and values."
   ]
  },
  {
   "cell_type": "code",
   "execution_count": 10,
   "metadata": {},
   "outputs": [
    {
     "name": "stdout",
     "output_type": "stream",
     "text": [
      "first_name : Jacob\n",
      "last_name : Duvall\n",
      "student_id : 112555555\n",
      "major : Computer Science\n",
      "Keys:\n",
      "first_name\n",
      "last_name\n",
      "student_id\n",
      "major\n",
      "Values:\n",
      "Jacob\n",
      "Duvall\n",
      "112555555\n",
      "Computer Science\n"
     ]
    }
   ],
   "source": [
    "\"\"\" TODO:\n",
    "Create a dictionary with a few entries.\n",
    "\"\"\"\n",
    "\n",
    "student = {\n",
    "    \"first_name\" : \"Jacob\",\n",
    "    \"last_name\" : \"Duvall\",\n",
    "    \"student_id\" : 112555555,\n",
    "    \"major\" : \"Computer Science\"\n",
    "}\n",
    "\n",
    "# TODO: Simulataneously iterate over the key-value pairs in the dictionary\n",
    "# print them out\n",
    "\n",
    "for key, value in student.items():\n",
    "    print(key + ' : ' + str(value))\n",
    "\n",
    "    \n",
    "# TODO: Only iterate over the keys and print them\n",
    "print(\"Keys:\")\n",
    "\n",
    "for key in student.keys():\n",
    "    print(key)\n",
    "\n",
    "    \n",
    "# TODO: Only iterate over the values and print them\n",
    "print(\"Values:\")\n",
    "\n",
    "for item in student.values():\n",
    "    print(item)\n"
   ]
  },
  {
   "cell_type": "code",
   "execution_count": null,
   "metadata": {},
   "outputs": [],
   "source": []
  }
 ],
 "metadata": {
  "kernelspec": {
   "display_name": "Python 3",
   "language": "python",
   "name": "python3"
  },
  "language_info": {
   "codemirror_mode": {
    "name": "ipython",
    "version": 3
   },
   "file_extension": ".py",
   "mimetype": "text/x-python",
   "name": "python",
   "nbconvert_exporter": "python",
   "pygments_lexer": "ipython3",
   "version": "3.7.3"
  }
 },
 "nbformat": 4,
 "nbformat_minor": 2
}
